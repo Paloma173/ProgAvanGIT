{
  "nbformat": 4,
  "nbformat_minor": 0,
  "metadata": {
    "colab": {
      "provenance": [],
      "authorship_tag": "ABX9TyMkqWmvfD2lulROgYHGKDAR",
      "include_colab_link": true
    },
    "kernelspec": {
      "name": "python3",
      "display_name": "Python 3"
    },
    "language_info": {
      "name": "python"
    }
  },
  "cells": [
    {
      "cell_type": "markdown",
      "metadata": {
        "id": "view-in-github",
        "colab_type": "text"
      },
      "source": [
        "<a href=\"https://colab.research.google.com/github/Paloma173/ProgAvanGIT/blob/main/P1y2/Pr%C3%A1ctica1y2.ipynb\" target=\"_parent\"><img src=\"https://colab.research.google.com/assets/colab-badge.svg\" alt=\"Open In Colab\"/></a>"
      ]
    },
    {
      "cell_type": "markdown",
      "source": [
        "Paloma Luengo Rabadán\n"
      ],
      "metadata": {
        "id": "6_JFXrASXR8m"
      }
    },
    {
      "cell_type": "markdown",
      "source": [
        "# Ejercicio 1"
      ],
      "metadata": {
        "id": "SYx30kHoXaGr"
      }
    },
    {
      "cell_type": "code",
      "execution_count": 1,
      "metadata": {
        "colab": {
          "base_uri": "https://localhost:8080/"
        },
        "id": "AGR0tZSyWH6k",
        "outputId": "4428e4ed-cdd6-497b-b981-d41efdaad07d"
      },
      "outputs": [
        {
          "output_type": "stream",
          "name": "stdout",
          "text": [
            "Tabla de multiplicar del 1:\n",
            "1 x 1 = 1\n",
            "1 x 3 = 3\n",
            "1 x 5 = 5\n",
            "1 x 7 = 7\n",
            "1 x 9 = 9\n",
            "------------------------------\n",
            "Tabla de multiplicar del 2:\n",
            "2 x 1 = 2\n",
            "2 x 3 = 6\n",
            "2 x 5 = 10\n",
            "2 x 7 = 14\n",
            "2 x 9 = 18\n",
            "------------------------------\n",
            "Tabla de multiplicar del 3:\n",
            "3 x 1 = 3\n",
            "3 x 3 = 9\n",
            "3 x 5 = 15\n",
            "  ... Producto mayor que 20, deteniendo la tabla.\n",
            "------------------------------\n",
            "Tabla de multiplicar del 4:\n",
            "4 x 1 = 4\n",
            "4 x 3 = 12\n",
            "4 x 5 = 20\n",
            "  ... Producto mayor que 20, deteniendo la tabla.\n",
            "------------------------------\n",
            "Tabla de multiplicar del 5:\n",
            "5 x 1 = 5\n",
            "5 x 3 = 15\n",
            "  ... Producto mayor que 20, deteniendo la tabla.\n",
            "------------------------------\n"
          ]
        }
      ],
      "source": [
        "# Generar tablas de multiplicar del 1 al 5\n",
        "for numero in range(1, 6):\n",
        "    print(f\"Tabla de multiplicar del {numero}:\")\n",
        "\n",
        "    # Bucle para los multiplicadores del 1 al 10\n",
        "    for multiplicador in range(1, 11):\n",
        "        producto = numero * multiplicador\n",
        "\n",
        "        # Utilizar 'continue' para omitir multiplicadores pares\n",
        "        if multiplicador % 2 == 0:\n",
        "            continue  # Salta al siguiente ciclo del bucle interno\n",
        "\n",
        "        # Utilizar 'break' para detener la tabla si el producto supera 20\n",
        "        if producto > 20:\n",
        "            print(\"  ... Producto mayor que 20, deteniendo la tabla.\")\n",
        "            break  # Sale del bucle interno y continúa con el siguiente número\n",
        "\n",
        "        # Utilizar 'pass' para ilustrar su uso sin afectar la lógica\n",
        "        if multiplicador == 5:\n",
        "            pass  # No hace nada, solo sirve como marcador de posición\n",
        "\n",
        "        # Imprimir el resultado de la multiplicación\n",
        "        print(f\"{numero} x {multiplicador} = {producto}\")\n",
        "\n",
        "    # Línea separadora para mayor claridad\n",
        "    print(\"-\" * 30)\n",
        ""
      ]
    }
  ]
}